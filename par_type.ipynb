{
 "cells": [
  {
   "cell_type": "code",
   "execution_count": null,
   "metadata": {},
   "outputs": [],
   "source": [
    "#converting weekends to 1 ,weekdays to 0\n",
    "df['par_day'].replace(to_replace=[1,8,15,22,29,2,9,16,23,30],value=1,inplace=True)\n",
    "df['par_day'].replace(to_replace=[3,4,5,6,7,10,11,12,13,14,17,18,19,20,21,24,25,26,27,28,31],value=0,inplace=True)\n",
    "df['par_day'].head(20)"
   ]
  },
  {
   "cell_type": "code",
   "execution_count": null,
   "metadata": {},
   "outputs": [],
   "source": [
    "#converting par_hour to 4 bins\n",
    "df['par_hour'].replace(to_replace=[2,3,4,5,6,7,8],value=0,inplace=True)\n",
    "df['par_hour'].replace(to_replace=[9,10,11,12,13,14,15,16,17,18,19,20],value=1,inplace=True)\n",
    "df['par_hour'].replace(to_replace=[21,22],value=2,inplace=True)\n",
    "df['par_hour'].replace(to_replace=[23,0,1],value=3,inplace=True)\n"
   ]
  }
 ],
 "metadata": {
  "kernelspec": {
   "display_name": "Python 3",
   "language": "python",
   "name": "python3"
  },
  "language_info": {
   "codemirror_mode": {
    "name": "ipython",
    "version": 3
   },
   "file_extension": ".py",
   "mimetype": "text/x-python",
   "name": "python",
   "nbconvert_exporter": "python",
   "pygments_lexer": "ipython3",
   "version": "3.6.5"
  }
 },
 "nbformat": 4,
 "nbformat_minor": 2
}
