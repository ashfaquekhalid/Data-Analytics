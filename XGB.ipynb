{
 "cells": [
  {
   "cell_type": "code",
   "execution_count": 147,
   "metadata": {},
   "outputs": [],
   "source": [
    "import numpy as np\n",
    "import pandas as pd \n",
    "\n",
    "# sklearn preprocessing for dealing with categorical variables\n",
    "from sklearn.preprocessing import LabelEncoder as le\n",
    "\n",
    "# File system manangement\n",
    "import os\n",
    "\n",
    "# Suppress warnings \n",
    "import warnings\n",
    "warnings.filterwarnings('ignore')\n",
    "\n",
    "# matplotlib and seaborn for plotting\n",
    "import matplotlib.pyplot as plt\n",
    "%matplotlib inline\n",
    "import seaborn as sns"
   ]
  },
  {
   "cell_type": "code",
   "execution_count": 148,
   "metadata": {},
   "outputs": [
    {
     "name": "stdout",
     "output_type": "stream",
     "text": [
      "<class 'pandas.core.frame.DataFrame'>\n",
      "RangeIndex: 78560 entries, 0 to 78559\n",
      "Data columns (total 39 columns):\n",
      "cell_name                        78560 non-null int64\n",
      "4G_rat                           78560 non-null int64\n",
      "par_year                         78560 non-null int64\n",
      "par_month                        78560 non-null int64\n",
      "par_day                          78560 non-null int64\n",
      "par_hour                         78560 non-null int64\n",
      "par_min                          78560 non-null int64\n",
      "subscriber_count                 78560 non-null int64\n",
      "web_browsing_total_bytes         78560 non-null int64\n",
      "video_total_bytes                78560 non-null int64\n",
      "social_ntwrking_bytes            78560 non-null int64\n",
      "cloud_computing_total_bytes      78560 non-null int64\n",
      "web_security_total_bytes         78560 non-null int64\n",
      "gaming_total_bytes               78560 non-null int64\n",
      "health_total_bytes               78560 non-null int64\n",
      "communication_total_bytes        78560 non-null int64\n",
      "file_sharing_total_bytes         78560 non-null int64\n",
      "remote_access_total_bytes        78560 non-null int64\n",
      "photo_sharing_total_bytes        78560 non-null int64\n",
      "software_dwnld_total_bytes       78560 non-null int64\n",
      "marketplace_total_bytes          78560 non-null int64\n",
      "storage_services_total_bytes     78560 non-null int64\n",
      "audio_total_bytes                78560 non-null int64\n",
      "location_services_total_bytes    78560 non-null int64\n",
      "presence_total_bytes             78560 non-null int64\n",
      "advertisement_total_bytes        78560 non-null int64\n",
      "system_total_bytes               78560 non-null int64\n",
      "voip_total_bytes                 78560 non-null int64\n",
      "speedtest_total_bytes            78560 non-null int64\n",
      "email_total_bytes                78560 non-null int64\n",
      "weather_total_bytes              78560 non-null int64\n",
      "media_total_bytes                78560 non-null int64\n",
      "mms_total_bytes                  78560 non-null int64\n",
      "others_total_bytes               78560 non-null int64\n",
      "beam_direction                   78560 non-null int64\n",
      "cell_range                       78560 non-null int64\n",
      "tilt                             78560 non-null int64\n",
      "ran_vendor                       78560 non-null object\n",
      "Congestion_Type                  78560 non-null object\n",
      "dtypes: int64(37), object(2)\n",
      "memory usage: 23.4+ MB\n"
     ]
    }
   ],
   "source": [
    "train=pd.read_csv('train_upd.csv')\n",
    "train.info()"
   ]
  },
  {
   "cell_type": "code",
   "execution_count": 149,
   "metadata": {},
   "outputs": [
    {
     "name": "stdout",
     "output_type": "stream",
     "text": [
      "<class 'pandas.core.frame.DataFrame'>\n",
      "RangeIndex: 78560 entries, 0 to 78559\n",
      "Data columns (total 32 columns):\n",
      "4G_rat                           78560 non-null int64\n",
      "subscriber_count                 78560 non-null int64\n",
      "web_browsing_total_bytes         78560 non-null int64\n",
      "video_total_bytes                78560 non-null int64\n",
      "social_ntwrking_bytes            78560 non-null int64\n",
      "cloud_computing_total_bytes      78560 non-null int64\n",
      "web_security_total_bytes         78560 non-null int64\n",
      "gaming_total_bytes               78560 non-null int64\n",
      "health_total_bytes               78560 non-null int64\n",
      "communication_total_bytes        78560 non-null int64\n",
      "file_sharing_total_bytes         78560 non-null int64\n",
      "remote_access_total_bytes        78560 non-null int64\n",
      "photo_sharing_total_bytes        78560 non-null int64\n",
      "software_dwnld_total_bytes       78560 non-null int64\n",
      "marketplace_total_bytes          78560 non-null int64\n",
      "storage_services_total_bytes     78560 non-null int64\n",
      "audio_total_bytes                78560 non-null int64\n",
      "location_services_total_bytes    78560 non-null int64\n",
      "presence_total_bytes             78560 non-null int64\n",
      "advertisement_total_bytes        78560 non-null int64\n",
      "system_total_bytes               78560 non-null int64\n",
      "voip_total_bytes                 78560 non-null int64\n",
      "speedtest_total_bytes            78560 non-null int64\n",
      "email_total_bytes                78560 non-null int64\n",
      "weather_total_bytes              78560 non-null int64\n",
      "media_total_bytes                78560 non-null int64\n",
      "mms_total_bytes                  78560 non-null int64\n",
      "others_total_bytes               78560 non-null int64\n",
      "beam_direction                   78560 non-null int64\n",
      "cell_range                       78560 non-null int64\n",
      "tilt                             78560 non-null int64\n",
      "Congestion_Type                  78560 non-null object\n",
      "dtypes: int64(31), object(1)\n",
      "memory usage: 19.2+ MB\n"
     ]
    }
   ],
   "source": [
    "train.drop(train.columns[[0,2,3,4,5,6,37]], axis=1, inplace=True)\n",
    "train.info()"
   ]
  },
  {
   "cell_type": "code",
   "execution_count": 150,
   "metadata": {},
   "outputs": [],
   "source": [
    "train['temp1']=train['web_security_total_bytes']+train['gaming_total_bytes']+train ['health_total_bytes']+train['storage_services_total_bytes']+train ['location_services_total_bytes']+train['advertisement_total_bytes']+train ['system_total_bytes']+train['voip_total_bytes']+train ['speedtest_total_bytes']+train['email_total_bytes']+train['weather_total_bytes']+train ['media_total_bytes']+train['mms_total_bytes']+train ['others_total_bytes']"
   ]
  },
  {
   "cell_type": "code",
   "execution_count": 151,
   "metadata": {},
   "outputs": [],
   "source": [
    "train['temp2']=train['web_browsing_total_bytes']+train['video_total_bytes']+train['social_ntwrking_bytes']"
   ]
  },
  {
   "cell_type": "code",
   "execution_count": 152,
   "metadata": {},
   "outputs": [],
   "source": [
    "train['temp3']=train['cloud_computing_total_bytes']"
   ]
  },
  {
   "cell_type": "code",
   "execution_count": 153,
   "metadata": {},
   "outputs": [],
   "source": [
    "train['temp4']=train ['presence_total_bytes']+train['communication_total_bytes']"
   ]
  },
  {
   "cell_type": "code",
   "execution_count": 154,
   "metadata": {},
   "outputs": [],
   "source": [
    "train['temp5']=train['photo_sharing_total_bytes']+train['software_dwnld_total_bytes']"
   ]
  },
  {
   "cell_type": "code",
   "execution_count": 155,
   "metadata": {},
   "outputs": [],
   "source": [
    "train['temp6']=train['file_sharing_total_bytes']+train['remote_access_total_bytes']"
   ]
  },
  {
   "cell_type": "code",
   "execution_count": 156,
   "metadata": {},
   "outputs": [],
   "source": [
    "train['temp7']=train['marketplace_total_bytes'] +train['audio_total_bytes']"
   ]
  },
  {
   "cell_type": "code",
   "execution_count": 157,
   "metadata": {},
   "outputs": [
    {
     "name": "stdout",
     "output_type": "stream",
     "text": [
      "<class 'pandas.core.frame.DataFrame'>\n",
      "RangeIndex: 78560 entries, 0 to 78559\n",
      "Data columns (total 39 columns):\n",
      "4G_rat                           78560 non-null int64\n",
      "subscriber_count                 78560 non-null int64\n",
      "web_browsing_total_bytes         78560 non-null int64\n",
      "video_total_bytes                78560 non-null int64\n",
      "social_ntwrking_bytes            78560 non-null int64\n",
      "cloud_computing_total_bytes      78560 non-null int64\n",
      "web_security_total_bytes         78560 non-null int64\n",
      "gaming_total_bytes               78560 non-null int64\n",
      "health_total_bytes               78560 non-null int64\n",
      "communication_total_bytes        78560 non-null int64\n",
      "file_sharing_total_bytes         78560 non-null int64\n",
      "remote_access_total_bytes        78560 non-null int64\n",
      "photo_sharing_total_bytes        78560 non-null int64\n",
      "software_dwnld_total_bytes       78560 non-null int64\n",
      "marketplace_total_bytes          78560 non-null int64\n",
      "storage_services_total_bytes     78560 non-null int64\n",
      "audio_total_bytes                78560 non-null int64\n",
      "location_services_total_bytes    78560 non-null int64\n",
      "presence_total_bytes             78560 non-null int64\n",
      "advertisement_total_bytes        78560 non-null int64\n",
      "system_total_bytes               78560 non-null int64\n",
      "voip_total_bytes                 78560 non-null int64\n",
      "speedtest_total_bytes            78560 non-null int64\n",
      "email_total_bytes                78560 non-null int64\n",
      "weather_total_bytes              78560 non-null int64\n",
      "media_total_bytes                78560 non-null int64\n",
      "mms_total_bytes                  78560 non-null int64\n",
      "others_total_bytes               78560 non-null int64\n",
      "beam_direction                   78560 non-null int64\n",
      "cell_range                       78560 non-null int64\n",
      "tilt                             78560 non-null int64\n",
      "Congestion_Type                  78560 non-null object\n",
      "temp1                            78560 non-null int64\n",
      "temp2                            78560 non-null int64\n",
      "temp3                            78560 non-null int64\n",
      "temp4                            78560 non-null int64\n",
      "temp5                            78560 non-null int64\n",
      "temp6                            78560 non-null int64\n",
      "temp7                            78560 non-null int64\n",
      "dtypes: int64(38), object(1)\n",
      "memory usage: 23.4+ MB\n"
     ]
    }
   ],
   "source": [
    "train.info()"
   ]
  },
  {
   "cell_type": "code",
   "execution_count": 158,
   "metadata": {},
   "outputs": [],
   "source": [
    "train['temp1']=train['temp1']/14\n",
    "train['temp1']=np.log1p(train['temp1'])"
   ]
  },
  {
   "cell_type": "code",
   "execution_count": 159,
   "metadata": {},
   "outputs": [],
   "source": [
    "train['temp2']=train['temp2']/3\n",
    "train['temp2']=np.log1p(train['temp2'])"
   ]
  },
  {
   "cell_type": "code",
   "execution_count": 160,
   "metadata": {},
   "outputs": [],
   "source": [
    "train['temp4']=train['temp4']/2\n",
    "train['temp4']=np.log1p(train['temp4'])"
   ]
  },
  {
   "cell_type": "code",
   "execution_count": 161,
   "metadata": {},
   "outputs": [],
   "source": [
    "train['temp5']=train['temp5']/2\n",
    "train['temp5']=np.log1p(train['temp5'])"
   ]
  },
  {
   "cell_type": "code",
   "execution_count": 162,
   "metadata": {},
   "outputs": [],
   "source": [
    "train['temp6']=train['temp6']/2\n",
    "train['temp6']=np.log1p(train['temp6'])"
   ]
  },
  {
   "cell_type": "code",
   "execution_count": 163,
   "metadata": {},
   "outputs": [],
   "source": [
    "train['temp7']=train['temp7']/2\n",
    "train['temp7']=np.log1p(train['temp7'])"
   ]
  },
  {
   "cell_type": "code",
   "execution_count": 164,
   "metadata": {},
   "outputs": [
    {
     "name": "stdout",
     "output_type": "stream",
     "text": [
      "<class 'pandas.core.frame.DataFrame'>\n",
      "RangeIndex: 78560 entries, 0 to 78559\n",
      "Data columns (total 39 columns):\n",
      "4G_rat                           78560 non-null int64\n",
      "subscriber_count                 78560 non-null int64\n",
      "web_browsing_total_bytes         78560 non-null int64\n",
      "video_total_bytes                78560 non-null int64\n",
      "social_ntwrking_bytes            78560 non-null int64\n",
      "cloud_computing_total_bytes      78560 non-null int64\n",
      "web_security_total_bytes         78560 non-null int64\n",
      "gaming_total_bytes               78560 non-null int64\n",
      "health_total_bytes               78560 non-null int64\n",
      "communication_total_bytes        78560 non-null int64\n",
      "file_sharing_total_bytes         78560 non-null int64\n",
      "remote_access_total_bytes        78560 non-null int64\n",
      "photo_sharing_total_bytes        78560 non-null int64\n",
      "software_dwnld_total_bytes       78560 non-null int64\n",
      "marketplace_total_bytes          78560 non-null int64\n",
      "storage_services_total_bytes     78560 non-null int64\n",
      "audio_total_bytes                78560 non-null int64\n",
      "location_services_total_bytes    78560 non-null int64\n",
      "presence_total_bytes             78560 non-null int64\n",
      "advertisement_total_bytes        78560 non-null int64\n",
      "system_total_bytes               78560 non-null int64\n",
      "voip_total_bytes                 78560 non-null int64\n",
      "speedtest_total_bytes            78560 non-null int64\n",
      "email_total_bytes                78560 non-null int64\n",
      "weather_total_bytes              78560 non-null int64\n",
      "media_total_bytes                78560 non-null int64\n",
      "mms_total_bytes                  78560 non-null int64\n",
      "others_total_bytes               78560 non-null int64\n",
      "beam_direction                   78560 non-null int64\n",
      "cell_range                       78560 non-null int64\n",
      "tilt                             78560 non-null int64\n",
      "Congestion_Type                  78560 non-null object\n",
      "temp1                            78560 non-null float64\n",
      "temp2                            78560 non-null float64\n",
      "temp3                            78560 non-null int64\n",
      "temp4                            78560 non-null float64\n",
      "temp5                            78560 non-null float64\n",
      "temp6                            78560 non-null float64\n",
      "temp7                            78560 non-null float64\n",
      "dtypes: float64(6), int64(32), object(1)\n",
      "memory usage: 23.4+ MB\n"
     ]
    }
   ],
   "source": [
    "train.info()"
   ]
  },
  {
   "cell_type": "code",
   "execution_count": 165,
   "metadata": {},
   "outputs": [],
   "source": [
    "train=train.drop(train.columns[[2,3,4,5,6,7,8,9,10,11,12,13,14,15,16,17,18,19,20,21,22,23,24,25,26,27]],axis=1)"
   ]
  },
  {
   "cell_type": "code",
   "execution_count": 166,
   "metadata": {},
   "outputs": [
    {
     "name": "stdout",
     "output_type": "stream",
     "text": [
      "<class 'pandas.core.frame.DataFrame'>\n",
      "RangeIndex: 78560 entries, 0 to 78559\n",
      "Data columns (total 13 columns):\n",
      "4G_rat              78560 non-null int64\n",
      "subscriber_count    78560 non-null int64\n",
      "beam_direction      78560 non-null int64\n",
      "cell_range          78560 non-null int64\n",
      "tilt                78560 non-null int64\n",
      "Congestion_Type     78560 non-null object\n",
      "temp1               78560 non-null float64\n",
      "temp2               78560 non-null float64\n",
      "temp3               78560 non-null int64\n",
      "temp4               78560 non-null float64\n",
      "temp5               78560 non-null float64\n",
      "temp6               78560 non-null float64\n",
      "temp7               78560 non-null float64\n",
      "dtypes: float64(6), int64(6), object(1)\n",
      "memory usage: 7.8+ MB\n"
     ]
    }
   ],
   "source": [
    "train.info()"
   ]
  },
  {
   "cell_type": "code",
   "execution_count": 167,
   "metadata": {},
   "outputs": [],
   "source": [
    "from sklearn.preprocessing import LabelEncoder\n",
    "from sklearn.model_selection import train_test_split\n",
    "le=LabelEncoder()\n",
    "train['Congestion_Type'] = le.fit_transform(train['Congestion_Type'])\n",
    "train['Congestion_Type']\n",
    "label = train['Congestion_Type']\n",
    "train = train.drop(['Congestion_Type'],axis=1)"
   ]
  },
  {
   "cell_type": "code",
   "execution_count": 133,
   "metadata": {},
   "outputs": [
    {
     "name": "stdout",
     "output_type": "stream",
     "text": [
      "<class 'pandas.core.frame.DataFrame'>\n",
      "RangeIndex: 78560 entries, 0 to 78559\n",
      "Data columns (total 12 columns):\n",
      "4G_rat              78560 non-null int64\n",
      "subscriber_count    78560 non-null int64\n",
      "beam_direction      78560 non-null int64\n",
      "cell_range          78560 non-null int64\n",
      "tilt                78560 non-null int64\n",
      "temp1               78560 non-null float64\n",
      "temp2               78560 non-null float64\n",
      "temp3               78560 non-null int64\n",
      "temp4               78560 non-null float64\n",
      "temp5               78560 non-null float64\n",
      "temp6               78560 non-null float64\n",
      "temp7               78560 non-null float64\n",
      "dtypes: float64(6), int64(6)\n",
      "memory usage: 7.2 MB\n"
     ]
    }
   ],
   "source": [
    "train.info()"
   ]
  },
  {
   "cell_type": "code",
   "execution_count": 134,
   "metadata": {},
   "outputs": [],
   "source": [
    "from sklearn.model_selection import train_test_split\n",
    "X_train, X_test, y_train, y_test = train_test_split(train, label,\n",
    "                                                    stratify=label, \n",
    "                                                    test_size=0.25)\n",
    "from sklearn.preprocessing import StandardScaler\n",
    "sc = StandardScaler()\n",
    "X_train = sc.fit_transform(X_train)\n",
    "X_test = sc.transform(X_test)\n",
    "# from sklearn.preprocessing import MinMaxScaler\n",
    "# scaler = MinMaxScaler()\n",
    "# MinMaxScaler(copy=True, feature_range=(0, 1))\n",
    "# X_train=scaler.fit_transform(X_train)\n",
    "# X_test=scaler.fit_transform(X_test)\n"
   ]
  },
  {
   "cell_type": "code",
   "execution_count": 135,
   "metadata": {},
   "outputs": [],
   "source": [
    "from sklearn.linear_model import LogisticRegression\n",
    "clf = LogisticRegression( multi_class='multinomial', solver='lbfgs')\n",
    "clf.fit(X_train, np.asarray(y_train))\n",
    "\n",
    "y_pred = clf.predict(X_train)"
   ]
  },
  {
   "cell_type": "code",
   "execution_count": 136,
   "metadata": {},
   "outputs": [
    {
     "data": {
      "text/plain": [
       "0.7798710115410726"
      ]
     },
     "execution_count": 136,
     "metadata": {},
     "output_type": "execute_result"
    }
   ],
   "source": [
    "from sklearn.metrics import confusion_matrix\n",
    "cm = confusion_matrix(y_train, y_pred)\n",
    "\n",
    "from sklearn.metrics import accuracy_score\n",
    "accuracy=accuracy_score(y_train,y_pred)\n",
    "\n",
    "from sklearn.metrics import matthews_corrcoef\n",
    "matthews_corrcoef(y_train, y_pred)\n",
    "accuracy"
   ]
  },
  {
   "cell_type": "code",
   "execution_count": 137,
   "metadata": {},
   "outputs": [],
   "source": [
    "from xgboost import XGBClassifier\n",
    "xgb=XGBClassifier()\n",
    "xgb.fit(X_train,y_train)\n",
    "y_pred=xgb.predict(X_test)"
   ]
  },
  {
   "cell_type": "code",
   "execution_count": 138,
   "metadata": {},
   "outputs": [
    {
     "data": {
      "text/plain": [
       "0.7097086469535105"
      ]
     },
     "execution_count": 138,
     "metadata": {},
     "output_type": "execute_result"
    }
   ],
   "source": [
    "from sklearn.metrics import confusion_matrix\n",
    "cm = confusion_matrix(y_test, y_pred)\n",
    "\n",
    "from sklearn.metrics import accuracy_score\n",
    "accuracy=accuracy_score(y_test,y_pred)\n",
    "\n",
    "from sklearn.metrics import matthews_corrcoef\n",
    "matthews_corrcoef(y_test, y_pred)\n"
   ]
  },
  {
   "cell_type": "code",
   "execution_count": 139,
   "metadata": {},
   "outputs": [
    {
     "data": {
      "text/plain": [
       "{'base_score': 0.5,\n",
       " 'booster': 'gbtree',\n",
       " 'colsample_bylevel': 1,\n",
       " 'colsample_bytree': 1,\n",
       " 'gamma': 0,\n",
       " 'learning_rate': 0.1,\n",
       " 'max_delta_step': 0,\n",
       " 'max_depth': 3,\n",
       " 'min_child_weight': 1,\n",
       " 'missing': None,\n",
       " 'n_estimators': 100,\n",
       " 'nthread': 1,\n",
       " 'objective': 'multi:softprob',\n",
       " 'reg_alpha': 0,\n",
       " 'reg_lambda': 1,\n",
       " 'scale_pos_weight': 1,\n",
       " 'seed': 0,\n",
       " 'silent': 1,\n",
       " 'subsample': 1}"
      ]
     },
     "execution_count": 139,
     "metadata": {},
     "output_type": "execute_result"
    }
   ],
   "source": [
    "xgb_param = xgb.get_xgb_params()\n",
    "xgb_param"
   ]
  },
  {
   "cell_type": "code",
   "execution_count": 168,
   "metadata": {},
   "outputs": [],
   "source": [
    "import matplotlib.pylab as plt\n",
    "%matplotlib inline\n",
    "from matplotlib.pylab import rcParams\n",
    "rcParams['figure.figsize'] = 12, 4\n",
    "\n"
   ]
  },
  {
   "cell_type": "code",
   "execution_count": 169,
   "metadata": {
    "scrolled": true
   },
   "outputs": [
    {
     "data": {
      "image/png": "[encoded data removed]",
      "text/plain": [
       "<Figure size 864x288 with 1 Axes>"
      ]
     },
     "metadata": {
      "needs_background": "light"
     },
     "output_type": "display_data"
    }
   ],
   "source": [
    "feat_imp = xgb.feature_importances_\n",
    "plt.bar(range(len(xgb.feature_importances_)), xgb.feature_importances_)\n",
    "plt.show()"
   ]
  },
  {
   "cell_type": "code",
   "execution_count": 170,
   "metadata": {},
   "outputs": [],
   "source": [
    "\n",
    "xgb1 = XGBClassifier(\n",
    " learning_rate =0.1,\n",
    " n_estimators=1000,\n",
    " max_depth=5,\n",
    " min_child_weight=1,\n",
    " gamma=0,\n",
    " subsample=0.8,\n",
    " colsample_bytree=0.8,\n",
    " objective= 'multi:softmax',\n",
    " nthread=4,\n",
    " scale_pos_weight=1,\n",
    " seed=27)\n"
   ]
  },
  {
   "cell_type": "code",
   "execution_count": 171,
   "metadata": {},
   "outputs": [],
   "source": [
    "\n",
    "xgb1.fit(X_train,y_train)\n",
    "y_pred=xgb1.predict(X_test)"
   ]
  },
  {
   "cell_type": "code",
   "execution_count": 172,
   "metadata": {},
   "outputs": [
    {
     "data": {
      "text/plain": [
       "0.7097115367804692"
      ]
     },
     "execution_count": 172,
     "metadata": {},
     "output_type": "execute_result"
    }
   ],
   "source": [
    "from sklearn.metrics import confusion_matrix\n",
    "cm = confusion_matrix(y_test, y_pred)\n",
    "\n",
    "from sklearn.metrics import accuracy_score\n",
    "accuracy=accuracy_score(y_test,y_pred)\n",
    "\n",
    "from sklearn.metrics import matthews_corrcoef\n",
    "matthews_corrcoef(y_test, y_pred)"
   ]
  },
  {
   "cell_type": "code",
   "execution_count": 173,
   "metadata": {},
   "outputs": [
    {
     "data": {
      "text/plain": [
       "GridSearchCV(cv=5, error_score='raise-deprecating',\n",
       "       estimator=XGBClassifier(base_score=0.5, booster='gbtree', colsample_bylevel=1,\n",
       "       colsample_bytree=0.8, gamma=0, learning_rate=0.1, max_delta_step=0,\n",
       "       max_depth=5, min_child_weight=1, missing=None, n_estimators=140,\n",
       "       n_jobs=1, nthread=4, objective='multi:softmax', random_state=0,\n",
       "       reg_alpha=0, reg_lambda=1, scale_pos_weight=1, seed=27, silent=True,\n",
       "       subsample=0.8),\n",
       "       fit_params=None, iid=False, n_jobs=4,\n",
       "       param_grid={'max_depth': range(3, 10, 2), 'min_child_weight': range(1, 6, 2)},\n",
       "       pre_dispatch='2*n_jobs', refit=True, return_train_score='warn',\n",
       "       scoring=None, verbose=0)"
      ]
     },
     "execution_count": 173,
     "metadata": {},
     "output_type": "execute_result"
    }
   ],
   "source": [
    "from sklearn.model_selection import GridSearchCV\n",
    "# from sklearn.grid_search import GridSearchCV   #Perforing grid search\n",
    "param_test1 = {\n",
    " 'max_depth':range(3,10,2),\n",
    " 'min_child_weight':range(1,6,2)\n",
    "}\n",
    "gsearch1 = GridSearchCV(estimator = XGBClassifier( learning_rate =0.1, n_estimators=140, max_depth=5,\n",
    " min_child_weight=1, gamma=0, subsample=0.8, colsample_bytree=0.8,\n",
    " objective= 'multi:softmax', nthread=4, scale_pos_weight=1, seed=27), \n",
    " param_grid = param_test1,n_jobs=4,iid=False, cv=5)\n",
    "gsearch1.fit(X_train,y_train)\n"
   ]
  },
  {
   "cell_type": "code",
   "execution_count": 174,
   "metadata": {},
   "outputs": [
    {
     "data": {
      "text/plain": [
       "({'max_depth': 5, 'min_child_weight': 1}, 0.7909033425424785)"
      ]
     },
     "execution_count": 174,
     "metadata": {},
     "output_type": "execute_result"
    }
   ],
   "source": [
    "gsearch1.best_params_, gsearch1.best_score_"
   ]
  },
  {
   "cell_type": "code",
   "execution_count": 175,
   "metadata": {},
   "outputs": [
    {
     "data": {
      "text/plain": [
       "GridSearchCV(cv=5, error_score='raise-deprecating',\n",
       "       estimator=XGBClassifier(base_score=0.5, booster='gbtree', colsample_bylevel=1,\n",
       "       colsample_bytree=0.8, gamma=0, learning_rate=0.1, max_delta_step=0,\n",
       "       max_depth=5, min_child_weight=2, missing=None, n_estimators=140,\n",
       "       n_jobs=1, nthread=4, objective='multi:softmax', random_state=0,\n",
       "       reg_alpha=0, reg_lambda=1, scale_pos_weight=1, seed=27, silent=True,\n",
       "       subsample=0.8),\n",
       "       fit_params=None, iid=False, n_jobs=4,\n",
       "       param_grid={'max_depth': [4, 5, 6], 'min_child_weight': [2, 3, 4]},\n",
       "       pre_dispatch='2*n_jobs', refit=True, return_train_score='warn',\n",
       "       scoring=None, verbose=0)"
      ]
     },
     "execution_count": 175,
     "metadata": {},
     "output_type": "execute_result"
    }
   ],
   "source": [
    "param_test2 = {\n",
    " 'max_depth':[4,5,6],\n",
    " 'min_child_weight':[2,3,4]\n",
    "}\n",
    "gsearch2 = GridSearchCV(estimator = XGBClassifier( learning_rate=0.1, n_estimators=140, max_depth=5,\n",
    " min_child_weight=2, gamma=0, subsample=0.8, colsample_bytree=0.8,\n",
    " objective= 'multi:softmax', nthread=4, scale_pos_weight=1,seed=27), \n",
    " param_grid = param_test2,n_jobs=4,iid=False, cv=5)\n",
    "gsearch2.fit(X_train,y_train)\n"
   ]
  },
  {
   "cell_type": "code",
   "execution_count": 176,
   "metadata": {},
   "outputs": [
    {
     "data": {
      "text/plain": [
       "({'max_depth': 5, 'min_child_weight': 2}, 0.7911580244065877)"
      ]
     },
     "execution_count": 176,
     "metadata": {},
     "output_type": "execute_result"
    }
   ],
   "source": [
    "gsearch2.best_params_, gsearch2.best_score_"
   ]
  },
  {
   "cell_type": "code",
   "execution_count": 193,
   "metadata": {},
   "outputs": [
    {
     "data": {
      "text/plain": [
       "GridSearchCV(cv=5, error_score='raise-deprecating',\n",
       "       estimator=XGBClassifier(base_score=0.5, booster='gbtree', colsample_bylevel=1,\n",
       "       colsample_bytree=0.8, gamma=0, learning_rate=0.1, max_delta_step=0,\n",
       "       max_depth=5, min_child_weight=2, missing=None, n_estimators=140,\n",
       "       n_jobs=1, nthread=4, objective='multi:softmax', random_state=0,\n",
       "       reg_alpha=0, reg_lambda=1, scale_pos_weight=1, seed=27, silent=True,\n",
       "       subsample=0.8),\n",
       "       fit_params=None, iid=False, n_jobs=4,\n",
       "       param_grid={'gamma': [0.0, 0.1, 0.2, 0.3, 0.4]},\n",
       "       pre_dispatch='2*n_jobs', refit=True, return_train_score='warn',\n",
       "       scoring=None, verbose=0)"
      ]
     },
     "execution_count": 193,
     "metadata": {},
     "output_type": "execute_result"
    }
   ],
   "source": [
    "param_test3 = {\n",
    " 'gamma':[i/10.0 for i in range(0,5)]\n",
    "}\n",
    "gsearch3 = GridSearchCV(estimator = XGBClassifier( learning_rate =0.1, n_estimators=140, max_depth=5,\n",
    " min_child_weight=2, gamma=0, subsample=0.8, colsample_bytree=0.8,\n",
    " objective= 'multi:softmax', nthread=4, scale_pos_weight=1,seed=27), \n",
    " param_grid = param_test3, n_jobs=4,iid=False, cv=5)\n",
    "gsearch3.fit(X_train,y_train)\n"
   ]
  },
  {
   "cell_type": "code",
   "execution_count": 194,
   "metadata": {},
   "outputs": [
    {
     "data": {
      "text/plain": [
       "({'gamma': 0.1}, 0.791242854989726)"
      ]
     },
     "execution_count": 194,
     "metadata": {},
     "output_type": "execute_result"
    }
   ],
   "source": [
    "gsearch3.best_params_, gsearch3.best_score_"
   ]
  },
  {
   "cell_type": "code",
   "execution_count": 180,
   "metadata": {},
   "outputs": [],
   "source": [
    "xgb2 = XGBClassifier(\n",
    " learning_rate =0.1,\n",
    " n_estimators=1000,\n",
    " max_depth=5,\n",
    " min_child_weight=2,\n",
    " gamma=0.4,\n",
    " subsample=0.8,\n",
    " colsample_bytree=0.8,\n",
    " objective= 'multi:softmax',\n",
    " nthread=4,\n",
    " scale_pos_weight=1,\n",
    " seed=27)\n"
   ]
  },
  {
   "cell_type": "code",
   "execution_count": 181,
   "metadata": {},
   "outputs": [],
   "source": [
    "xgb2.fit(X_train,y_train)\n",
    "y_pred=xgb2.predict(X_test)"
   ]
  },
  {
   "cell_type": "code",
   "execution_count": 182,
   "metadata": {},
   "outputs": [
    {
     "data": {
      "text/plain": [
       "0.7093863573752253"
      ]
     },
     "execution_count": 182,
     "metadata": {},
     "output_type": "execute_result"
    }
   ],
   "source": [
    "from sklearn.metrics import confusion_matrix\n",
    "cm = confusion_matrix(y_test, y_pred)\n",
    "\n",
    "from sklearn.metrics import accuracy_score\n",
    "accuracy=accuracy_score(y_test,y_pred)\n",
    "\n",
    "from sklearn.metrics import matthews_corrcoef\n",
    "matthews_corrcoef(y_test, y_pred)"
   ]
  },
  {
   "cell_type": "code",
   "execution_count": 195,
   "metadata": {},
   "outputs": [
    {
     "data": {
      "text/plain": [
       "GridSearchCV(cv=5, error_score='raise-deprecating',\n",
       "       estimator=XGBClassifier(base_score=0.5, booster='gbtree', colsample_bylevel=1,\n",
       "       colsample_bytree=0.8, gamma=0.1, learning_rate=0.1,\n",
       "       max_delta_step=0, max_depth=5, min_child_weight=2, missing=None,\n",
       "       n_estimators=177, n_jobs=1, nthread=4, objective='multi:softmax',\n",
       "       random_state=0, reg_alpha=0, reg_lambda=1, scale_pos_weight=1,\n",
       "       seed=27, silent=True, subsample=0.8),\n",
       "       fit_params=None, iid=False, n_jobs=4,\n",
       "       param_grid={'subsample': [0.6, 0.7, 0.8, 0.9], 'colsample_bytree': [0.6, 0.7, 0.8, 0.9]},\n",
       "       pre_dispatch='2*n_jobs', refit=True, return_train_score='warn',\n",
       "       scoring=None, verbose=0)"
      ]
     },
     "execution_count": 195,
     "metadata": {},
     "output_type": "execute_result"
    }
   ],
   "source": [
    "param_test4 = {\n",
    " 'subsample':[i/10.0 for i in range(6,10)],\n",
    " 'colsample_bytree':[i/10.0 for i in range(6,10)]\n",
    "}\n",
    "gsearch4 = GridSearchCV(estimator = XGBClassifier( learning_rate =0.1, n_estimators=177, max_depth=5,\n",
    " min_child_weight=2, gamma=0.1, subsample=0.8, colsample_bytree=0.8,\n",
    " objective= 'multi:softmax', nthread=4, scale_pos_weight=1,seed=27), \n",
    " param_grid = param_test4,n_jobs=4,iid=False, cv=5)\n",
    "gsearch4.fit(X_train,y_train)"
   ]
  },
  {
   "cell_type": "code",
   "execution_count": 196,
   "metadata": {},
   "outputs": [
    {
     "data": {
      "text/plain": [
       "({'colsample_bytree': 0.6, 'subsample': 0.7}, 0.7918367137317478)"
      ]
     },
     "execution_count": 196,
     "metadata": {},
     "output_type": "execute_result"
    }
   ],
   "source": [
    "gsearch4.best_params_, gsearch4.best_score_"
   ]
  },
  {
   "cell_type": "code",
   "execution_count": 185,
   "metadata": {},
   "outputs": [],
   "source": [
    "xgb3 = XGBClassifier(\n",
    " learning_rate =0.1,\n",
    " n_estimators=1000,\n",
    " max_depth=5,\n",
    " min_child_weight=2,\n",
    " gamma=0.4,\n",
    " subsample=0.7,\n",
    " colsample_bytree=0.7,\n",
    " objective= 'multi:softmax',\n",
    " nthread=4,\n",
    " scale_pos_weight=1,\n",
    " seed=27)\n"
   ]
  },
  {
   "cell_type": "code",
   "execution_count": 186,
   "metadata": {},
   "outputs": [],
   "source": [
    "xgb3.fit(X_train,y_train)\n",
    "y_pred=xgb3.predict(X_test)"
   ]
  },
  {
   "cell_type": "code",
   "execution_count": 188,
   "metadata": {},
   "outputs": [
    {
     "data": {
      "text/plain": [
       "0.7828920570264766"
      ]
     },
     "execution_count": 188,
     "metadata": {},
     "output_type": "execute_result"
    }
   ],
   "source": [
    "from sklearn.metrics import confusion_matrix\n",
    "cm = confusion_matrix(y_test, y_pred)\n",
    "\n",
    "from sklearn.metrics import accuracy_score\n",
    "accuracy=accuracy_score(y_test,y_pred)\n",
    "\n",
    "from sklearn.metrics import matthews_corrcoef\n",
    "matthews_corrcoef(y_test, y_pred)\n",
    "accuracy"
   ]
  },
  {
   "cell_type": "code",
   "execution_count": 197,
   "metadata": {},
   "outputs": [
    {
     "data": {
      "text/plain": [
       "GridSearchCV(cv=5, error_score='raise-deprecating',\n",
       "       estimator=XGBClassifier(base_score=0.5, booster='gbtree', colsample_bylevel=1,\n",
       "       colsample_bytree=0.7, gamma=0.1, learning_rate=0.1,\n",
       "       max_delta_step=0, max_depth=5, min_child_weight=2, missing=None,\n",
       "       n_estimators=177, n_jobs=1, nthread=4, objective='multi:softmax',\n",
       "       random_state=0, reg_alpha=0, reg_lambda=1, scale_pos_weight=1,\n",
       "       seed=27, silent=True, subsample=0.6),\n",
       "       fit_params=None, iid=False, n_jobs=4,\n",
       "       param_grid={'reg_alpha': [1e-05, 0.01, 0.1, 1, 100]},\n",
       "       pre_dispatch='2*n_jobs', refit=True, return_train_score='warn',\n",
       "       scoring=None, verbose=0)"
      ]
     },
     "execution_count": 197,
     "metadata": {},
     "output_type": "execute_result"
    }
   ],
   "source": [
    "param_test6 = {\n",
    " 'reg_alpha':[1e-5, 1e-2, 0.1, 1, 100]\n",
    "}\n",
    "gsearch6 = GridSearchCV(estimator = XGBClassifier( learning_rate =0.1, n_estimators=177, max_depth=5,\n",
    " min_child_weight=2, gamma=0.1, subsample=0.6, colsample_bytree=0.7,\n",
    " objective= 'multi:softmax', nthread=4, scale_pos_weight=1,seed=27), \n",
    " param_grid = param_test6,n_jobs=4,iid=False, cv=5)\n",
    "gsearch6.fit(X_train,y_train)"
   ]
  },
  {
   "cell_type": "code",
   "execution_count": 198,
   "metadata": {},
   "outputs": [
    {
     "data": {
      "text/plain": [
       "({'reg_alpha': 1}, 0.7918367137317478)"
      ]
     },
     "execution_count": 198,
     "metadata": {},
     "output_type": "execute_result"
    }
   ],
   "source": [
    "gsearch6.best_params_, gsearch4.best_score_"
   ]
  },
  {
   "cell_type": "code",
   "execution_count": 191,
   "metadata": {},
   "outputs": [
    {
     "data": {
      "text/plain": [
       "GridSearchCV(cv=5, error_score='raise-deprecating',\n",
       "       estimator=XGBClassifier(base_score=0.5, booster='gbtree', colsample_bylevel=1,\n",
       "       colsample_bytree=0.8, gamma=0.1, learning_rate=0.1,\n",
       "       max_delta_step=0, max_depth=4, min_child_weight=6, missing=None,\n",
       "       n_estimators=177, n_jobs=1, nthread=4, objective='multi:softmax',\n",
       "       random_state=0, reg_alpha=0, reg_lambda=1, scale_pos_weight=1,\n",
       "       seed=27, silent=True, subsample=0.8),\n",
       "       fit_params=None, iid=False, n_jobs=4,\n",
       "       param_grid={'reg_alpha': [0, 0.1, 0.95, 1, 1.05]},\n",
       "       pre_dispatch='2*n_jobs', refit=True, return_train_score='warn',\n",
       "       scoring=None, verbose=0)"
      ]
     },
     "execution_count": 191,
     "metadata": {},
     "output_type": "execute_result"
    }
   ],
   "source": [
    "param_test7 = {\n",
    " 'reg_alpha':[0, 0.1, 0.95, 1,1.05]\n",
    "}\n",
    "gsearch7 = GridSearchCV(estimator = XGBClassifier( learning_rate =0.1, n_estimators=177, max_depth=4,\n",
    " min_child_weight=6, gamma=0.1, subsample=0.8, colsample_bytree=0.8,\n",
    " objective= 'multi:softmax', nthread=4, scale_pos_weight=1,seed=27), \n",
    " param_grid = param_test7,n_jobs=4,iid=False, cv=5)\n",
    "gsearch7.fit(X_train,y_train)"
   ]
  },
  {
   "cell_type": "code",
   "execution_count": 192,
   "metadata": {},
   "outputs": [
    {
     "data": {
      "text/plain": [
       "({'reg_alpha': 1}, 0.7922780994978149)"
      ]
     },
     "execution_count": 192,
     "metadata": {},
     "output_type": "execute_result"
    }
   ],
   "source": [
    "gsearch7.best_params_, gsearch4.best_score_"
   ]
  },
  {
   "cell_type": "code",
   "execution_count": 199,
   "metadata": {},
   "outputs": [],
   "source": [
    "xgb4 = XGBClassifier(\n",
    " learning_rate =0.01,\n",
    " n_estimators=5000,\n",
    " max_depth=5,\n",
    " min_child_weight=2,\n",
    " gamma=0.1,\n",
    " subsample=0.6,\n",
    " colsample_bytree=0.7,\n",
    " reg_alpha=1,\n",
    " objective= 'multi:softmax',\n",
    " nthread=4,\n",
    " scale_pos_weight=1,\n",
    " seed=27)\n"
   ]
  },
  {
   "cell_type": "code",
   "execution_count": null,
   "metadata": {},
   "outputs": [],
   "source": [
    "xgb4.fit(X_train,y_train)\n",
    "y_pred=xgb4.predict(X_test)"
   ]
  },
  {
   "cell_type": "code",
   "execution_count": null,
   "metadata": {},
   "outputs": [],
   "source": [
    "from sklearn.metrics import confusion_matrix\n",
    "cm = confusion_matrix(y_test, y_pred)\n",
    "\n",
    "from sklearn.metrics import accuracy_score\n",
    "accuracy=accuracy_score(y_test,y_pred)\n",
    "\n",
    "from sklearn.metrics import matthews_corrcoef\n",
    "matthews_corrcoef(y_test, y_pred)\n",
    "accuracy"
   ]
  }
 ],
 "metadata": {
  "kernelspec": {
   "display_name": "Python 3",
   "language": "python",
   "name": "python3"
  },
  "language_info": {
   "codemirror_mode": {
    "name": "ipython",
    "version": 3
   },
   "file_extension": ".py",
   "mimetype": "text/x-python",
   "name": "python",
   "nbconvert_exporter": "python",
   "pygments_lexer": "ipython3",
   "version": "3.7.1"
  }
 },
 "nbformat": 4,
 "nbformat_minor": 2
}
